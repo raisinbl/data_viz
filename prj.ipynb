{
 "cells": [
  {
   "cell_type": "markdown",
   "metadata": {},
   "source": [
    "# Load Data and Library"
   ]
  },
  {
   "cell_type": "markdown",
   "metadata": {},
   "source": [
    "### Load Data"
   ]
  },
  {
   "cell_type": "code",
   "execution_count": 1,
   "metadata": {},
   "outputs": [],
   "source": [
    "# import lib\n",
    "import pandas as pd\n",
    "from matplotlib import pyplot as plt\n",
    "import plotly"
   ]
  },
  {
   "cell_type": "code",
   "execution_count": 10,
   "metadata": {},
   "outputs": [],
   "source": [
    "# load data\n",
    "\n",
    "tracks = pd.concat([pd.read_csv(r\"data/tracks/tracks_1.csv\",index_col=0),pd.read_csv(r\"data/tracks/tracks_2.csv\",index_col=0),pd.read_csv(r\"data/tracks/tracks_3.csv\",index_col=0)])\n",
    "\n",
    "artists = pd.concat([pd.read_csv(r\"data/artists/artists_1.csv\",index_col=0), pd.read_csv(r\"data/artists/artists_2.csv\",index_col=0)])"
   ]
  },
  {
   "cell_type": "code",
   "execution_count": null,
   "metadata": {},
   "outputs": [],
   "source": [
    "musical_aspects = ['duration_ms', 'explicit', 'danceability', 'energy', 'key', 'loudness', 'mode', 'speechiness', 'acousticness', 'instrumentalness', 'liveness', 'valence', 'tempo', 'time_signature']"
   ]
  },
  {
   "cell_type": "markdown",
   "metadata": {},
   "source": [
    "### Attribute Explaination"
   ]
  },
  {
   "cell_type": "markdown",
   "metadata": {},
   "source": [
    "<!-- This can be helpful\n",
    "\n",
    "- Type `nbsp` to add a single space.<br>\n",
    "- Type `ensp` to add 2 spaces.<br>\n",
    "- Type `emsp` to add 4 spaces.<br>\n",
    "- You can use non-breaking space (`nbsp`) 4 times to insert a tab.\n",
    "\n",
    "Please append `&` in the beginning and `;` in the end of the above suggested space syntax -->\n",
    "\n",
    "#### Track\n",
    "\n",
    "- **acousticness** &emsp; number&lt;float&gt; <br>\n",
    "A confidence measure from 0.0 to 1.0 of whether the track is acoustic. 1.0 represents high confidence the track is acoustic.<br>\n",
    "&gt;=0 &emsp; &lt;=1\n",
    "\n",
    "- **artists** &emsp; array of strings <br>\n",
    "The artists who performed the track. \n",
    "\n",
    "- **danceability** &emsp; number&lt;float&gt; <br>\n",
    "Danceability describes how suitable a track is for dancing based on a combination of musical elements including tempo, rhythm stability, beat strength, and overall regularity. A value of 0.0 is least danceable and 1.0 is most danceable. <br>\n",
    "&gt;=0 &emsp; &lt;=1\n",
    "\n",
    "- **duration_ms** &emsp; integer <br>\n",
    "The duration of the track in milliseconds.\n",
    "\n",
    "- **energy** &emsp;  number&lt;float&gt; <br>\n",
    "Energy is a measure from 0.0 to 1.0 and represents a perceptual measure of intensity and activity. Typically, energetic tracks feel fast, loud, and noisy. For example, death metal has high energy, while a Bach prelude scores low on the scale. Perceptual features contributing to this attribute include dynamic range, perceived loudness, timbre, onset rate, and general entropy.\n",
    "\n",
    "\n",
    "- **explicit** &emsp;  boolean <br>\n",
    "Whether or not the track has explicit lyrics (**true** = yes it does; **false** = no it does not OR unknown).\n",
    "\n",
    "- **id** &emsp;  string <br>\n",
    "The Spotify ID for the track.\n",
    "\n",
    "- **id_artists** &emsp;  array of strings <br>\n",
    "The artists ID who performed the track. \n",
    "\n",
    "- **instrumentalness** &emsp; number&lt;float&gt; <br>\n",
    "Predicts whether a track contains no vocals. \"Ooh\" and \"aah\" sounds are treated as instrumental in this context. Rap or spoken word tracks are clearly \"vocal\". The closer the instrumentalness value is to 1.0, the greater likelihood the track contains no vocal content. Values above 0.5 are intended to represent instrumental tracks, but confidence is higher as the value approaches 1.0.\n",
    "\n",
    "- **key** &emsp;  integer <br>\n",
    "The key the track is in. Integers map to pitches using standard Pitch Class notation. E.g. 0 = C, 1 = C♯/D♭, 2 = D, and so on. If no key was detected, the value is -1. <br>\n",
    "&gt;=-1 &emsp; &lt;=11\n",
    "\n",
    "- **liveness**  &emsp; number&lt;float&gt; <br>\n",
    "Detects the presence of an audience in the recording. Higher liveness values represent an increased probability that the track was performed live. A value above 0.8 provides strong likelihood that the track is live.\n",
    "\n",
    "- **loudness** &emsp; number&lt;float&gt; <br>\n",
    "Overall loudness of a track in decibels (dB). Loudness values are averaged across the entire track and are useful for comparing relative loudness of tracks. Loudness is the quality of a sound that is the primary psychological correlate of physical strength (amplitude). Values typical range between -60 and 0 db.\n",
    "\n",
    "- **mode** &emsp;  integer <br>\n",
    "Mode indicates the modality (major or minor) of a track, the type of scale from which its melodic content is derived. Major is represented by 1 and minor is 0.\n",
    "\n",
    "- **name** &emsp;  string <br>\n",
    "The name of the track\n",
    "\n",
    "- **popularity** &emsp;  integer<br>\n",
    "The popularity of a track is a value between 0 and 100, with 100 being the most popular. The popularity is calculated by algorithm and is based, in the most part, on the total number of plays the track has had and how recent those plays are.\n",
    "\n",
    "\n",
    "- **release_date** &emsp;  string <br>\n",
    "The date the album was first released.\n",
    "\n",
    "- **speechiness** &emsp;  number&lt;float&gt; <br>\n",
    "Speechiness detects the presence of spoken words in a track. The more exclusively speech-like the recording (e.g. talk show, audio book, poetry), the closer to 1.0 the attribute value. Values above 0.66 describe tracks that are probably made entirely of spoken words. Values between 0.33 and 0.66 describe tracks that may contain both music and speech, either in sections or layered, including such cases as rap music. Values below 0.33 most likely represent music and other non-speech-like tracks.\n",
    "\n",
    "- **tempo** &emsp;  number&lt;float&gt; <br>\n",
    "The overall estimated tempo of a track in beats per minute (BPM). In musical terminology, tempo is the speed or pace of a given piece and derives directly from the average beat duration.\n",
    "\n",
    "- **time_signature** &emsp;  integer <br>\n",
    "An estimated time signature. The time signature (meter) is a notational convention to specify how many beats are in each bar (or measure). The time signature ranges from 3 to 7 indicating time signatures of \"3/4\", to \"7/4\". <br>\n",
    "&gt;=3 &emsp; &lt;=11\n",
    "\n",
    "- **valence** &emsp;  number&lt;float&gt; <br>\n",
    "A measure from 0.0 to 1.0 describing the musical positiveness conveyed by a track. Tracks with high valence sound more positive (e.g. happy, cheerful, euphoric), while tracks with low valence sound more negative (e.g. sad, depressed, angry). <br>\n",
    "&gt;=0 &emsp; &lt;=1"
   ]
  },
  {
   "cell_type": "markdown",
   "metadata": {},
   "source": [
    "#### Artist\n",
    "\n",
    "- **popularity** &emsp;  integer <br>\n",
    "The popularity of the artist. The value will be between 0 and 100, with 100 being the most popular. The artist's popularity is calculated from the popularity of all the artist's tracks.\n",
    "\n",
    "- **id** &emsp;  string <br>\n",
    "The Spotify ID for the artist.\n",
    "\n",
    "- **name** &emsp;  string <br>\n",
    "The name of the artist.\n",
    "\n",
    "- **followers** &emsp;  integer <br>\n",
    "The total number of followers.\n",
    "\n",
    "- **genres** &emsp;  array of strings <br>\n",
    "A list of the genres the artist is associated with. If not yet classified, the array is empty."
   ]
  },
  {
   "cell_type": "markdown",
   "metadata": {},
   "source": [
    "# Main code"
   ]
  },
  {
   "cell_type": "markdown",
   "metadata": {},
   "source": [
    "## Data Preprocess"
   ]
  },
  {
   "cell_type": "code",
   "execution_count": null,
   "metadata": {},
   "outputs": [],
   "source": [
    "tracks.head(3)"
   ]
  },
  {
   "cell_type": "markdown",
   "metadata": {},
   "source": [
    "### Null data"
   ]
  },
  {
   "cell_type": "markdown",
   "metadata": {},
   "source": [
    "check null data"
   ]
  },
  {
   "cell_type": "code",
   "execution_count": null,
   "metadata": {},
   "outputs": [],
   "source": [
    "id_artist = tracks[tracks['name'].isnull()]['id_artists'].unique().item()[2:-2]"
   ]
  },
  {
   "cell_type": "code",
   "execution_count": null,
   "metadata": {},
   "outputs": [],
   "source": [
    "artists['followers'] = artists['followers'].fillna(artists['followers'].mean())\n",
    "artists['followers'].astype('int',copy = False)"
   ]
  },
  {
   "cell_type": "code",
   "execution_count": null,
   "metadata": {},
   "outputs": [],
   "source": [
    "artists[artists['followers'].isna()]"
   ]
  },
  {
   "cell_type": "code",
   "execution_count": null,
   "metadata": {},
   "outputs": [],
   "source": [
    "artists['followers'] = (artists['followers']-artists['followers'].mean())/artists['followers'].mean()\n",
    "\n",
    "artists[['followers','popularity']].corr('spearman')"
   ]
  },
  {
   "cell_type": "code",
   "execution_count": null,
   "metadata": {},
   "outputs": [],
   "source": [
    "tracks.sort_values('popularity',ascending=False)"
   ]
  }
 ],
 "metadata": {
  "kernelspec": {
   "display_name": "Python 3.9.12 ('base')",
   "language": "python",
   "name": "python3"
  },
  "language_info": {
   "codemirror_mode": {
    "name": "ipython",
    "version": 3
   },
   "file_extension": ".py",
   "mimetype": "text/x-python",
   "name": "python",
   "nbconvert_exporter": "python",
   "pygments_lexer": "ipython3",
   "version": "3.9.12"
  },
  "orig_nbformat": 4,
  "vscode": {
   "interpreter": {
    "hash": "38597a53a5a2288cee5de708b24bb08e5fe66d2876a4a7487d05726c23efe445"
   }
  }
 },
 "nbformat": 4,
 "nbformat_minor": 2
}
